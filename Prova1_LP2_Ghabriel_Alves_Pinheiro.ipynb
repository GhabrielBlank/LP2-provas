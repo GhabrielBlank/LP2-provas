{
 "cells": [
  {
   "cell_type": "code",
   "execution_count": 105,
   "metadata": {},
   "outputs": [],
   "source": [
    "tc = 29\n",
    "QE = 12684\n",
    "votos_partido={}\n",
    "partidos= []\n",
    "with open(\"eleicao.csv\", encoding=\"utf-8\") as f:\n",
    "    f.readline()\n",
    "    for line in f:\n",
    "        line= line.split(\";\")\n",
    "        partidos.append (line[2])"
   ]
  },
  {
   "cell_type": "code",
   "execution_count": 106,
   "metadata": {
    "scrolled": true
   },
   "outputs": [
    {
     "data": {
      "text/plain": [
       "{'DEM - PDT / PMDB / PR / PROS / DEM / PSC',\n",
       " 'PC do B',\n",
       " 'PDT - PDT / PMDB / PR / PROS / DEM / PSC',\n",
       " 'PEN - PEN / PP',\n",
       " 'PHS',\n",
       " 'PMB',\n",
       " 'PMDB - PDT / PMDB / PR / PROS / DEM / PSC',\n",
       " 'PMN - PRP / PTC / PRTB / PMN',\n",
       " 'PP - PEN / PP',\n",
       " 'PPS - PSB / PPS',\n",
       " 'PR - PDT / PMDB / PR / PROS / DEM / PSC',\n",
       " 'PRB - PRB / PSDC',\n",
       " 'PROS - PDT / PMDB / PR / PROS / DEM / PSC',\n",
       " 'PRP - PRP / PTC / PRTB / PMN',\n",
       " 'PRTB - PRP / PTC / PRTB / PMN',\n",
       " 'PSB - PSB / PPS',\n",
       " 'PSC - PDT / PMDB / PR / PROS / DEM / PSC',\n",
       " 'PSD - PSD / PTB / PSL',\n",
       " 'PSDB - PSDB / PT do B',\n",
       " 'PSDC - PRB / PSDC',\n",
       " 'PSL - PSD / PTB / PSL',\n",
       " 'PSOL',\n",
       " 'PSTU',\n",
       " 'PT',\n",
       " 'PT do B - PSDB / PT do B',\n",
       " 'PTB - PSD / PTB / PSL',\n",
       " 'PTC - PRP / PTC / PRTB / PMN',\n",
       " 'PTN',\n",
       " 'PV',\n",
       " 'REDE',\n",
       " 'SD'}"
      ]
     },
     "execution_count": 106,
     "metadata": {},
     "output_type": "execute_result"
    }
   ],
   "source": [
    "set (partidos)"
   ]
  },
  {
   "cell_type": "code",
   "execution_count": 107,
   "metadata": {
    "collapsed": true
   },
   "outputs": [],
   "source": [
    "for i in partidos:\n",
    "    votos_partido[i] = 0"
   ]
  },
  {
   "cell_type": "code",
   "execution_count": 114,
   "metadata": {},
   "outputs": [],
   "source": [
    "pegar_valor = 0\n",
    "with open(\"eleicao.csv\", encoding=\"utf-8\") as f:\n",
    "    f.readline()\n",
    "    for line in f:\n",
    "        line= line.split(\";\")\n",
    "        pegar_valor= votos_partido.get(line[2]) + int(line[3])\n",
    "        votos_partido [line[2]] = pegar_valor\n",
    "        "
   ]
  },
  {
   "cell_type": "code",
   "execution_count": 115,
   "metadata": {},
   "outputs": [
    {
     "name": "stdout",
     "output_type": "stream",
     "text": [
      "{'PRB - PRB / PSDC': 9363, 'PP - PEN / PP': 819, 'PDT - PDT / PMDB / PR / PROS / DEM / PSC': 37213, 'PT': 23200, 'PTB - PSD / PTB / PSL': 7486, 'PMDB - PDT / PMDB / PR / PROS / DEM / PSC': 13768, 'PSTU': 10074, 'PSL - PSD / PTB / PSL': 7334, 'REDE': 497, 'PTN': 15658, 'PSC - PDT / PMDB / PR / PROS / DEM / PSC': 1975, 'PR - PDT / PMDB / PR / PROS / DEM / PSC': 10472, 'PPS - PSB / PPS': 7103, 'DEM - PDT / PMDB / PR / PROS / DEM / PSC': 3487, 'PSDC - PRB / PSDC': 11920, 'PRTB - PRP / PTC / PRTB / PMN': 1157, 'PHS': 15038, 'PMN - PRP / PTC / PRTB / PMN': 2989, 'PMB': 28629, 'PTC - PRP / PTC / PRTB / PMN': 1356, 'PSB - PSB / PPS': 8049, 'PV': 7082, 'PRP - PRP / PTC / PRTB / PMN': 4094, 'PSDB - PSDB / PT do B': 12551, 'PSOL': 17033, 'PEN - PEN / PP': 17795, 'PSD - PSD / PTB / PSL': 15721, 'PC do B': 8429, 'PT do B - PSDB / PT do B': 8449, 'SD': 28224, 'PROS - PDT / PMDB / PR / PROS / DEM / PSC': 8111}\n"
     ]
    }
   ],
   "source": [
    "print (votos_partido)"
   ]
  },
  {
   "cell_type": "code",
   "execution_count": 117,
   "metadata": {},
   "outputs": [],
   "source": [
    "QP= {}\n",
    "for i in votos_partido:\n",
    "    QP [i]= votos_partido.get(i)/ QE"
   ]
  },
  {
   "cell_type": "code",
   "execution_count": 118,
   "metadata": {},
   "outputs": [
    {
     "name": "stdout",
     "output_type": "stream",
     "text": [
      "{'PRB - PRB / PSDC': 0.7381740775780511, 'PP - PEN / PP': 0.06456953642384106, 'PDT - PDT / PMDB / PR / PROS / DEM / PSC': 2.933853673919899, 'PT': 1.8290760012614318, 'PTB - PSD / PTB / PSL': 0.5901923683380637, 'PMDB - PDT / PMDB / PR / PROS / DEM / PSC': 1.0854619993692842, 'PSTU': 0.7942289498580889, 'PSL - PSD / PTB / PSL': 0.5782087669504888, 'REDE': 0.039183222958057394, 'PTN': 1.2344686218858405, 'PSC - PDT / PMDB / PR / PROS / DEM / PSC': 0.15570797855566068, 'PR - PDT / PMDB / PR / PROS / DEM / PSC': 0.82560706401766, 'PPS - PSB / PPS': 0.5599968464206875, 'DEM - PDT / PMDB / PR / PROS / DEM / PSC': 0.2749132765689057, 'PSDC - PRB / PSDC': 0.9397666351308736, 'PRTB - PRP / PTC / PRTB / PMN': 0.0912172816146326, 'PHS': 1.185588142541785, 'PMN - PRP / PTC / PRTB / PMN': 0.23565121412803533, 'PMB': 2.257095553453169, 'PTC - PRP / PTC / PRTB / PMN': 0.10690633869441817, 'PSB - PSB / PPS': 0.6345789971617786, 'PV': 0.5583412172816147, 'PRP - PRP / PTC / PRTB / PMN': 0.32276884263639233, 'PSDB - PSDB / PT do B': 0.989514348785872, 'PSOL': 1.3428729107537054, 'PEN - PEN / PP': 1.402948596657206, 'PSD - PSD / PTB / PSL': 1.239435509303059, 'PC do B': 0.6645380006307159, 'PT do B - PSDB / PT do B': 0.6661147902869757, 'SD': 2.225165562913907, 'PROS - PDT / PMDB / PR / PROS / DEM / PSC': 0.6394670450961841}\n"
     ]
    }
   ],
   "source": [
    "print (QP)"
   ]
  },
  {
   "cell_type": "code",
   "execution_count": null,
   "metadata": {
    "collapsed": true
   },
   "outputs": [],
   "source": [
    "Media_partido= {}"
   ]
  }
 ],
 "metadata": {
  "kernelspec": {
   "display_name": "Python 3",
   "language": "python",
   "name": "python3"
  },
  "language_info": {
   "codemirror_mode": {
    "name": "ipython",
    "version": 3
   },
   "file_extension": ".py",
   "mimetype": "text/x-python",
   "name": "python",
   "nbconvert_exporter": "python",
   "pygments_lexer": "ipython3",
   "version": "3.6.1"
  }
 },
 "nbformat": 4,
 "nbformat_minor": 2
}
