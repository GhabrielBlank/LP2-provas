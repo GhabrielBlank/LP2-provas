{
 "cells": [
  {
   "cell_type": "code",
   "execution_count": 105,
   "metadata": {},
   "outputs": [],
   "source": [
    "tc = 29\n",
    "QE = 12684\n",
    "votos_partido={}\n",
    "partidos= []\n",
    "candidatos= {}\n",
    "with open(\"eleicao.csv\", encoding=\"utf-8\") as f:\n",
    "    f.readline()\n",
    "    for line in f:\n",
    "        line= line.split(\";\")\n",
    "        partidos.append (line[2])\n",
    "        candidatos [line[1]]= line[3]"
   ]
  },
  {
   "cell_type": "code",
   "execution_count": 104,
   "metadata": {
    "scrolled": true
   },
   "outputs": [
    {
     "data": {
      "text/plain": [
       "{'DEM - PDT / PMDB / PR / PROS / DEM / PSC',\n",
       " 'PC do B',\n",
       " 'PDT - PDT / PMDB / PR / PROS / DEM / PSC',\n",
       " 'PEN - PEN / PP',\n",
       " 'PHS',\n",
       " 'PMB',\n",
       " 'PMDB - PDT / PMDB / PR / PROS / DEM / PSC',\n",
       " 'PMN - PRP / PTC / PRTB / PMN',\n",
       " 'PP - PEN / PP',\n",
       " 'PPS - PSB / PPS',\n",
       " 'PR - PDT / PMDB / PR / PROS / DEM / PSC',\n",
       " 'PRB - PRB / PSDC',\n",
       " 'PROS - PDT / PMDB / PR / PROS / DEM / PSC',\n",
       " 'PRP - PRP / PTC / PRTB / PMN',\n",
       " 'PRTB - PRP / PTC / PRTB / PMN',\n",
       " 'PSB - PSB / PPS',\n",
       " 'PSC - PDT / PMDB / PR / PROS / DEM / PSC',\n",
       " 'PSD - PSD / PTB / PSL',\n",
       " 'PSDB - PSDB / PT do B',\n",
       " 'PSDC - PRB / PSDC',\n",
       " 'PSL - PSD / PTB / PSL',\n",
       " 'PSOL',\n",
       " 'PSTU',\n",
       " 'PT',\n",
       " 'PT do B - PSDB / PT do B',\n",
       " 'PTB - PSD / PTB / PSL',\n",
       " 'PTC - PRP / PTC / PRTB / PMN',\n",
       " 'PTN',\n",
       " 'PV',\n",
       " 'REDE',\n",
       " 'SD'}"
      ]
     },
     "execution_count": 104,
     "metadata": {},
     "output_type": "execute_result"
    }
   ],
   "source": [
    "partido_candidatos = partidos\n",
    "set (partidos)"
   ]
  },
  {
   "cell_type": "code",
   "execution_count": 90,
   "metadata": {
    "collapsed": true
   },
   "outputs": [],
   "source": [
    "for i in partidos:\n",
    "    votos_partido[i] = 0"
   ]
  },
  {
   "cell_type": "code",
   "execution_count": 91,
   "metadata": {
    "collapsed": true
   },
   "outputs": [],
   "source": [
    "pegar_valor = 0\n",
    "with open(\"eleicao.csv\", encoding=\"utf-8\") as f:\n",
    "    f.readline()\n",
    "    for line in f:\n",
    "        line= line.split(\";\")\n",
    "        pegar_valor= votos_partido.get(line[2]) + int(line[3])\n",
    "        votos_partido [line[2]] = pegar_valor\n",
    "        "
   ]
  },
  {
   "cell_type": "code",
   "execution_count": 92,
   "metadata": {},
   "outputs": [
    {
     "name": "stdout",
     "output_type": "stream",
     "text": [
      "{'PRB - PRB / PSDC': 9363, 'PP - PEN / PP': 819, 'PDT - PDT / PMDB / PR / PROS / DEM / PSC': 37213, 'PT': 23200, 'PTB - PSD / PTB / PSL': 7486, 'PMDB - PDT / PMDB / PR / PROS / DEM / PSC': 13768, 'PSTU': 10074, 'PSL - PSD / PTB / PSL': 7334, 'REDE': 497, 'PTN': 15658, 'PSC - PDT / PMDB / PR / PROS / DEM / PSC': 1975, 'PR - PDT / PMDB / PR / PROS / DEM / PSC': 10472, 'PPS - PSB / PPS': 7103, 'DEM - PDT / PMDB / PR / PROS / DEM / PSC': 3487, 'PSDC - PRB / PSDC': 11920, 'PRTB - PRP / PTC / PRTB / PMN': 1157, 'PHS': 15038, 'PMN - PRP / PTC / PRTB / PMN': 2989, 'PMB': 28629, 'PTC - PRP / PTC / PRTB / PMN': 1356, 'PSB - PSB / PPS': 8049, 'PV': 7082, 'PRP - PRP / PTC / PRTB / PMN': 4094, 'PSDB - PSDB / PT do B': 12551, 'PSOL': 17033, 'PEN - PEN / PP': 17795, 'PSD - PSD / PTB / PSL': 15721, 'PC do B': 8429, 'PT do B - PSDB / PT do B': 8449, 'SD': 28224, 'PROS - PDT / PMDB / PR / PROS / DEM / PSC': 8111}\n"
     ]
    }
   ],
   "source": [
    "print (votos_partido)"
   ]
  },
  {
   "cell_type": "code",
   "execution_count": 93,
   "metadata": {
    "collapsed": true
   },
   "outputs": [],
   "source": [
    "QP= {}\n",
    "for i in votos_partido:\n",
    "    QP [i]= votos_partido.get(i)/ QE"
   ]
  },
  {
   "cell_type": "code",
   "execution_count": 94,
   "metadata": {},
   "outputs": [
    {
     "name": "stdout",
     "output_type": "stream",
     "text": [
      "{'PRB - PRB / PSDC': 0.7381740775780511, 'PP - PEN / PP': 0.06456953642384106, 'PDT - PDT / PMDB / PR / PROS / DEM / PSC': 2.933853673919899, 'PT': 1.8290760012614318, 'PTB - PSD / PTB / PSL': 0.5901923683380637, 'PMDB - PDT / PMDB / PR / PROS / DEM / PSC': 1.0854619993692842, 'PSTU': 0.7942289498580889, 'PSL - PSD / PTB / PSL': 0.5782087669504888, 'REDE': 0.039183222958057394, 'PTN': 1.2344686218858405, 'PSC - PDT / PMDB / PR / PROS / DEM / PSC': 0.15570797855566068, 'PR - PDT / PMDB / PR / PROS / DEM / PSC': 0.82560706401766, 'PPS - PSB / PPS': 0.5599968464206875, 'DEM - PDT / PMDB / PR / PROS / DEM / PSC': 0.2749132765689057, 'PSDC - PRB / PSDC': 0.9397666351308736, 'PRTB - PRP / PTC / PRTB / PMN': 0.0912172816146326, 'PHS': 1.185588142541785, 'PMN - PRP / PTC / PRTB / PMN': 0.23565121412803533, 'PMB': 2.257095553453169, 'PTC - PRP / PTC / PRTB / PMN': 0.10690633869441817, 'PSB - PSB / PPS': 0.6345789971617786, 'PV': 0.5583412172816147, 'PRP - PRP / PTC / PRTB / PMN': 0.32276884263639233, 'PSDB - PSDB / PT do B': 0.989514348785872, 'PSOL': 1.3428729107537054, 'PEN - PEN / PP': 1.402948596657206, 'PSD - PSD / PTB / PSL': 1.239435509303059, 'PC do B': 0.6645380006307159, 'PT do B - PSDB / PT do B': 0.6661147902869757, 'SD': 2.225165562913907, 'PROS - PDT / PMDB / PR / PROS / DEM / PSC': 0.6394670450961841}\n"
     ]
    }
   ],
   "source": [
    "print (QP)"
   ]
  },
  {
   "cell_type": "code",
   "execution_count": 95,
   "metadata": {},
   "outputs": [],
   "source": [
    "Media_partido= {}\n",
    "for i in votos_partido:\n",
    "    Media_partido [i] =  votos_partido.get(i)/ (QP.get(i)+1)"
   ]
  },
  {
   "cell_type": "code",
   "execution_count": 96,
   "metadata": {
    "collapsed": true
   },
   "outputs": [],
   "source": [
    "vaga_partido={}\n",
    "for i in partidos:\n",
    "    vaga_partido[i] = 0"
   ]
  },
  {
   "cell_type": "code",
   "execution_count": 97,
   "metadata": {},
   "outputs": [],
   "source": [
    "import operator\n",
    "dono_cadeira=\"\"\n",
    "dono_cadeira = max(Media_partido.items(), key=operator.itemgetter(1))[0]"
   ]
  },
  {
   "cell_type": "code",
   "execution_count": 98,
   "metadata": {},
   "outputs": [
    {
     "data": {
      "text/plain": [
       "{'DEM - PDT / PMDB / PR / PROS / DEM / PSC': 0,\n",
       " 'PC do B': 0,\n",
       " 'PDT - PDT / PMDB / PR / PROS / DEM / PSC': 0,\n",
       " 'PEN - PEN / PP': 0,\n",
       " 'PHS': 0,\n",
       " 'PMB': 0,\n",
       " 'PMDB - PDT / PMDB / PR / PROS / DEM / PSC': 0,\n",
       " 'PMN - PRP / PTC / PRTB / PMN': 0,\n",
       " 'PP - PEN / PP': 0,\n",
       " 'PPS - PSB / PPS': 0,\n",
       " 'PR - PDT / PMDB / PR / PROS / DEM / PSC': 0,\n",
       " 'PRB - PRB / PSDC': 0,\n",
       " 'PROS - PDT / PMDB / PR / PROS / DEM / PSC': 0,\n",
       " 'PRP - PRP / PTC / PRTB / PMN': 0,\n",
       " 'PRTB - PRP / PTC / PRTB / PMN': 0,\n",
       " 'PSB - PSB / PPS': 0,\n",
       " 'PSC - PDT / PMDB / PR / PROS / DEM / PSC': 0,\n",
       " 'PSD - PSD / PTB / PSL': 0,\n",
       " 'PSDB - PSDB / PT do B': 0,\n",
       " 'PSDC - PRB / PSDC': 0,\n",
       " 'PSL - PSD / PTB / PSL': 0,\n",
       " 'PSOL': 0,\n",
       " 'PSTU': 0,\n",
       " 'PT': 0,\n",
       " 'PT do B - PSDB / PT do B': 0,\n",
       " 'PTB - PSD / PTB / PSL': 0,\n",
       " 'PTC - PRP / PTC / PRTB / PMN': 0,\n",
       " 'PTN': 0,\n",
       " 'PV': 0,\n",
       " 'REDE': 0,\n",
       " 'SD': 0}"
      ]
     },
     "execution_count": 98,
     "metadata": {},
     "output_type": "execute_result"
    }
   ],
   "source": [
    "vaga_partido"
   ]
  },
  {
   "cell_type": "code",
   "execution_count": 110,
   "metadata": {},
   "outputs": [],
   "source": [
    "cadeiras=[\"\"] *29\n",
    "cont= 0\n",
    "for a in cadeiras:\n",
    "    dono_cadeira =max(Media_partido.items(), key=operator.itemgetter(1))[0]\n",
    "    vaga_partido[dono_cadeira] = vaga_partido.get(dono_cadeira)+1\n",
    "    Media_partido [dono_cadeira] = Media_partido.get(dono_cadeira)/ (QP.get(dono_cadeira)+vaga_partido.get(dono_cadeira)+1)\n",
    "    vaga_partido[dono_cadeira] = vaga_partido.get(dono_cadeira)"
   ]
  },
  {
   "cell_type": "code",
   "execution_count": 111,
   "metadata": {},
   "outputs": [
    {
     "data": {
      "text/plain": [
       "{'DEM - PDT / PMDB / PR / PROS / DEM / PSC': 6,\n",
       " 'PC do B': 6,\n",
       " 'PDT - PDT / PMDB / PR / PROS / DEM / PSC': 5,\n",
       " 'PEN - PEN / PP': 6,\n",
       " 'PHS': 6,\n",
       " 'PMB': 5,\n",
       " 'PMDB - PDT / PMDB / PR / PROS / DEM / PSC': 6,\n",
       " 'PMN - PRP / PTC / PRTB / PMN': 6,\n",
       " 'PP - PEN / PP': 4,\n",
       " 'PPS - PSB / PPS': 6,\n",
       " 'PR - PDT / PMDB / PR / PROS / DEM / PSC': 6,\n",
       " 'PRB - PRB / PSDC': 6,\n",
       " 'PROS - PDT / PMDB / PR / PROS / DEM / PSC': 6,\n",
       " 'PRP - PRP / PTC / PRTB / PMN': 6,\n",
       " 'PRTB - PRP / PTC / PRTB / PMN': 4,\n",
       " 'PSB - PSB / PPS': 6,\n",
       " 'PSC - PDT / PMDB / PR / PROS / DEM / PSC': 5,\n",
       " 'PSD - PSD / PTB / PSL': 6,\n",
       " 'PSDB - PSDB / PT do B': 6,\n",
       " 'PSDC - PRB / PSDC': 6,\n",
       " 'PSL - PSD / PTB / PSL': 6,\n",
       " 'PSOL': 6,\n",
       " 'PSTU': 6,\n",
       " 'PT': 6,\n",
       " 'PT do B - PSDB / PT do B': 6,\n",
       " 'PTB - PSD / PTB / PSL': 6,\n",
       " 'PTC - PRP / PTC / PRTB / PMN': 5,\n",
       " 'PTN': 6,\n",
       " 'PV': 6,\n",
       " 'REDE': 3,\n",
       " 'SD': 5}"
      ]
     },
     "execution_count": 111,
     "metadata": {},
     "output_type": "execute_result"
    }
   ],
   "source": [
    "vaga_partido"
   ]
  },
  {
   "cell_type": "code",
   "execution_count": 101,
   "metadata": {},
   "outputs": [],
   "source": [
    "teste = \"\"\n",
    "funfa = {}\n",
    "for a in vaga_partido:\n",
    "    if vaga_partido.get(a) !=0:\n",
    "        funfa[a] = vaga_partido.get(a)"
   ]
  },
  {
   "cell_type": "code",
   "execution_count": 102,
   "metadata": {},
   "outputs": [
    {
     "data": {
      "text/plain": [
       "{'DEM - PDT / PMDB / PR / PROS / DEM / PSC': 2,\n",
       " 'PC do B': 2,\n",
       " 'PDT - PDT / PMDB / PR / PROS / DEM / PSC': 2,\n",
       " 'PEN - PEN / PP': 4,\n",
       " 'PHS': 2,\n",
       " 'PMB': 2,\n",
       " 'PMDB - PDT / PMDB / PR / PROS / DEM / PSC': 2,\n",
       " 'PMN - PRP / PTC / PRTB / PMN': 2,\n",
       " 'PPS - PSB / PPS': 2,\n",
       " 'PR - PDT / PMDB / PR / PROS / DEM / PSC': 2,\n",
       " 'PRB - PRB / PSDC': 2,\n",
       " 'PROS - PDT / PMDB / PR / PROS / DEM / PSC': 2,\n",
       " 'PRP - PRP / PTC / PRTB / PMN': 2,\n",
       " 'PSB - PSB / PPS': 2,\n",
       " 'PSD - PSD / PTB / PSL': 4,\n",
       " 'PSDB - PSDB / PT do B': 2,\n",
       " 'PSDC - PRB / PSDC': 2,\n",
       " 'PSL - PSD / PTB / PSL': 2,\n",
       " 'PSOL': 4,\n",
       " 'PSTU': 2,\n",
       " 'PT': 2,\n",
       " 'PT do B - PSDB / PT do B': 2,\n",
       " 'PTB - PSD / PTB / PSL': 2,\n",
       " 'PTN': 2,\n",
       " 'PV': 2,\n",
       " 'SD': 2}"
      ]
     },
     "execution_count": 102,
     "metadata": {},
     "output_type": "execute_result"
    }
   ],
   "source": [
    "funfa"
   ]
  },
  {
   "cell_type": "code",
   "execution_count": null,
   "metadata": {
    "collapsed": true
   },
   "outputs": [],
   "source": []
  }
 ],
 "metadata": {
  "kernelspec": {
   "display_name": "Python 3",
   "language": "python",
   "name": "python3"
  }
 },
 "nbformat": 4,
 "nbformat_minor": 2
}
